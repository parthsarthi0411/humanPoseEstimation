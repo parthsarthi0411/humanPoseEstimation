{
  "nbformat": 4,
  "nbformat_minor": 0,
  "metadata": {
    "colab": {
      "name": "PoseNet_MovementAnalysis.ipynb",
      "provenance": [],
      "collapsed_sections": []
    },
    "kernelspec": {
      "name": "python3",
      "display_name": "Python 3"
    },
    "accelerator": "GPU"
  },
  "cells": [
    {
      "cell_type": "markdown",
      "metadata": {
        "id": "X38L6tanrnrB"
      },
      "source": [
        "# Pose Detection with PoseNet - Python implementation\n",
        "\n",
        "This notebook uses an open source project [PoseNet](https://github.com/rwightman/posenet-python) which is a Python port of Google TensorFlow.js PoseNet used for Real-time Human Pose Estimation."
      ]
    },
    {
      "cell_type": "code",
      "metadata": {
        "id": "FOdkDhb6ga6N"
      },
      "source": [
        "# cloning the repository\n",
        "import os\n",
        "from os.path import exists, join, basename, splitext\n",
        "\n",
        "git_repo_url = 'https://github.com/rwightman/posenet-python'\n",
        "project_name = splitext(basename(git_repo_url))[0]\n",
        "if not exists(project_name):\n",
        "  # clone posenet-python\n",
        "  !git clone -q --depth 1 $git_repo_url\n",
        "\n",
        "  "
      ],
      "execution_count": 1,
      "outputs": []
    },
    {
      "cell_type": "markdown",
      "metadata": {
        "id": "Q8pdlLEWoaSP"
      },
      "source": [
        "## Installing conda\n",
        "\n",
        "The project is built using conda therefore we have to install it on our Colab notebook first."
      ]
    },
    {
      "cell_type": "code",
      "metadata": {
        "id": "XVGXnhogndJ8"
      },
      "source": [
        "# check the default path and version of pre-installed python\n",
        "!which python && python --version"
      ],
      "execution_count": null,
      "outputs": []
    },
    {
      "cell_type": "code",
      "metadata": {
        "id": "ZR45gA5QpMfX"
      },
      "source": [
        "# check if the PYTHONPATH environment variable is set\n",
        "!echo $PYTHONPATH\n",
        "\n",
        "# reset it to avoid warning messages from Miniconda (ref:https://towardsdatascience.com/conda-google-colab-75f7c867a522)\n",
        "%env PYTHONPATH="
      ],
      "execution_count": null,
      "outputs": []
    },
    {
      "cell_type": "code",
      "metadata": {
        "id": "6Z3udyxJp0Eg"
      },
      "source": [
        "#installing miniconda\n",
        "%%bash\n",
        "MINICONDA_INSTALLER_SCRIPT=Miniconda3-4.5.4-Linux-x86_64.sh\n",
        "MINICONDA_PREFIX=/usr/local\n",
        "wget https://repo.continuum.io/miniconda/$MINICONDA_INSTALLER_SCRIPT\n",
        "chmod +x $MINICONDA_INSTALLER_SCRIPT\n",
        "./$MINICONDA_INSTALLER_SCRIPT -b -f -p $MINICONDA_PREFIX"
      ],
      "execution_count": null,
      "outputs": []
    },
    {
      "cell_type": "code",
      "metadata": {
        "id": "TmptP9a_p749"
      },
      "source": [
        "# check if properly installed \n",
        "!which conda # should return /usr/local/bin/conda \n",
        "!conda --version # should return 4.5.4"
      ],
      "execution_count": null,
      "outputs": []
    },
    {
      "cell_type": "markdown",
      "metadata": {
        "id": "Zw46s8KrqVLL"
      },
      "source": [
        "## Installing dependencies\n",
        "\n",
        "\n",
        "\n",
        "*   tensorflow-gpu\n",
        "*   scipy\n",
        "* pyyaml\n",
        "* python=3.6\n",
        "* opencv-python==3.4.5.20\n",
        "\n"
      ]
    },
    {
      "cell_type": "code",
      "metadata": {
        "id": "c6_iFIZRnZvz"
      },
      "source": [
        "  # install system dependencies\n",
        "  !conda install tensorflow-gpu==1.14 scipy pyyaml python=3.6"
      ],
      "execution_count": null,
      "outputs": []
    },
    {
      "cell_type": "code",
      "metadata": {
        "id": "KnWRgGUKtmjN"
      },
      "source": [
        "!pip install opencv-python==3.4.5.20"
      ],
      "execution_count": null,
      "outputs": []
    },
    {
      "cell_type": "markdown",
      "metadata": {
        "id": "VIIlcMI9Glb5"
      },
      "source": [
        "# Cropping the Video\n",
        "\n",
        "Our program detects key point for each frame of the video and saves it in form of an image. We are cropping the video to 5 seconds to avoid an uncomfortably large amount of output images.\n"
      ]
    },
    {
      "cell_type": "code",
      "metadata": {
        "id": "6TNOogs60_j8"
      },
      "source": [
        "from moviepy.video.io.ffmpeg_tools import ffmpeg_extract_subclip\n",
        "ffmpeg_extract_subclip(\"test2.mp4\", 0, 5, targetname=\"video2.mp4\")"
      ],
      "execution_count": null,
      "outputs": []
    },
    {
      "cell_type": "markdown",
      "metadata": {
        "id": "WmOJjGJVG-bp"
      },
      "source": [
        "Before running the following command we have to create a folder called \"output\" inside posenet-python directory and also moce the cropped video file to posenet-python."
      ]
    },
    {
      "cell_type": "code",
      "metadata": {
        "id": "ieZmJNxBYO64"
      },
      "source": [
        "!cd posenet-python/ && python3 webcam_demo.py --file \"video2.mp4\""
      ],
      "execution_count": null,
      "outputs": []
    },
    {
      "cell_type": "markdown",
      "metadata": {
        "id": "XlQFGovhHand"
      },
      "source": [
        "Accessing image files on Colab is a pain. So we zip the entire output folder and download it later for better viewing. "
      ]
    },
    {
      "cell_type": "code",
      "metadata": {
        "id": "_-fH90lG6pfG"
      },
      "source": [
        "!zip -r /content/file.zip /content/posenet-python/output"
      ],
      "execution_count": null,
      "outputs": []
    }
  ]
}